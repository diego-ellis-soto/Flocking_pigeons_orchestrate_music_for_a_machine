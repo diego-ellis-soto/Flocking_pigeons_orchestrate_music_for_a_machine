{
 "cells": [
  {
   "cell_type": "code",
   "execution_count": 4,
   "metadata": {},
   "outputs": [
    {
     "data": {
      "text/plain": [
       "0"
      ]
     },
     "execution_count": 4,
     "metadata": {},
     "output_type": "execute_result"
    }
   ],
   "source": [
    "from IPython.display import HTML\n",
    "from matplotlib.animation import FuncAnimation\n",
    "from collections import namedtuple\n",
    "import matplotlib.pyplot as plt\n",
    "import numpy as np\n",
    "import threading\n",
    "import pygame\n",
    "import random\n",
    "import mido\n",
    "import math\n",
    "import os\n",
    "import rtmidi\n",
    "\n",
    "import subprocess\n",
    "\n",
    "def get_file_duration(filename):\n",
    "  result = subprocess.check_output('ffprobe -show_entries format=duration -i {}'.format(filename), shell=True)\n",
    "  seconds = float(str(result).split('duration=')[1].split('\\\\n')[0])\n",
    "  return seconds\n",
    "  \n",
    "audio_seconds = get_file_duration('/Users/diegoellis/Downloads/20210228_122200.mp3')\n",
    "video_seconds = get_file_duration('/Users/diegoellis/Desktop/Audio_moth_long.mp4')\n",
    "\n",
    "# stretch the video duration\n",
    "# stretch the video duration\n",
    "ratio = audio_seconds / video_seconds\n",
    "os.system('ffmpeg -i /Users/diegoellis/Desktop/Audio_moth_long.mp4 -filter_complex \"setpts=PTS*{}\" /Users/diegoellis/Desktop/Audiomoth_stretched.mp4'.format(ratio))\n",
    "\n",
    "# combine the audio and video\n",
    "os.system('ffmpeg -i /Users/diegoellis/Downloads/20210228_122200.mp3 -i /Users/diegoellis/Desktop/Audiomoth_stretched.mp4 /Users/diegoellis/Desktop/Audiomoth_combined.mp4')"
   ]
  },
  {
   "cell_type": "code",
   "execution_count": null,
   "metadata": {},
   "outputs": [],
   "source": []
  }
 ],
 "metadata": {
  "kernelspec": {
   "display_name": "Python 3",
   "language": "python",
   "name": "python3"
  },
  "language_info": {
   "codemirror_mode": {
    "name": "ipython",
    "version": 3
   },
   "file_extension": ".py",
   "mimetype": "text/x-python",
   "name": "python",
   "nbconvert_exporter": "python",
   "pygments_lexer": "ipython3",
   "version": "3.8.3"
  }
 },
 "nbformat": 4,
 "nbformat_minor": 4
}
